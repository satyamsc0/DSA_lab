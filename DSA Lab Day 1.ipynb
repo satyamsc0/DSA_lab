{
 "cells": [
  {
   "cell_type": "markdown",
   "metadata": {},
   "source": [
    "#### Implementation of 2D array"
   ]
  },
  {
   "cell_type": "code",
   "execution_count": 38,
   "metadata": {},
   "outputs": [
    {
     "name": "stdout",
     "output_type": "stream",
     "text": [
      "Enter the number of rows: 4\n",
      "Enter the number of columns: 2\n",
      "Enter the  number: 1\n",
      "Enter the  number: 2\n",
      "Enter the  number: 3\n",
      "Enter the  number: 4\n",
      "Enter the  number: 5\n",
      "Enter the  number: 6\n",
      "Enter the  number: 7\n",
      "Enter the  number: 8\n",
      "[[1, 2], [3, 4], [5, 6], [7, 8]]\n"
     ]
    }
   ],
   "source": [
    "# Taking no of rows and columns as inputs from the user\n",
    "rows = input(\"Enter the number of rows: \")\n",
    "columns = input(\"Enter the number of columns: \")\n",
    "lst = [] # For storing the elements in matrix form\n",
    "for i in range(int(rows)):\n",
    "    l1 = []\n",
    "    for j in range(int(columns)):\n",
    "        val = input(\"Enter the  number: \")\n",
    "        l1.append(int(val))\n",
    "        \n",
    "    lst.append(l1)\n",
    "    \n",
    "print(lst)"
   ]
  },
  {
   "cell_type": "markdown",
   "metadata": {},
   "source": [
    "#### 2D Matrix multiplication"
   ]
  },
  {
   "cell_type": "code",
   "execution_count": 40,
   "metadata": {},
   "outputs": [
    {
     "name": "stdout",
     "output_type": "stream",
     "text": [
      "[0, 1, 2, 3, 4]\n"
     ]
    }
   ],
   "source": [
    "l =[]\n",
    "for i in range(5):\n",
    "    l.append(i)\n",
    "    \n",
    "print(l)"
   ]
  },
  {
   "cell_type": "code",
   "execution_count": 41,
   "metadata": {},
   "outputs": [
    {
     "name": "stdout",
     "output_type": "stream",
     "text": [
      "[0, 1, 2, 3, 4]\n"
     ]
    }
   ],
   "source": [
    "l = [i for i in range(5)]\n",
    "print(l)"
   ]
  },
  {
   "cell_type": "code",
   "execution_count": 10,
   "metadata": {},
   "outputs": [
    {
     "name": "stdout",
     "output_type": "stream",
     "text": [
      "[[55, 70], [70, 90], [85, 110], [100, 130]]\n"
     ]
    }
   ],
   "source": [
    "# Define matrix of any shape\n",
    "arr1 = [[1,2,3,4,5], [2,3,4,5,6], [3,4,5,6,7], [4,5,6,7,8]]\n",
    "arr2 = [[1,2], [2,3], [3,4], [4,5], [5,6]]\n",
    "result = [] # To store fianal matrix result\n",
    "# Checking whether both the matrixs are multiplicable\n",
    "if len(arr1[0]) == len(arr2): # if no of columns of matrix 1 is equal to no of rows of matrix 2, proceed\n",
    "    for i in range(len(arr1)):\n",
    "        row = []\n",
    "        l1 = arr1[i] # Storing each row of matrix 1 in list form\n",
    "        for j in range(len(arr2[0])):\n",
    "            f = 0\n",
    "            l2 = [arr2[k][j] for k in range(len(arr2))] # Storing each column of matrix 2 in list form\n",
    "            # multiple both the list point wise and add\n",
    "            for z in range(len(l1)):\n",
    "                p = l1[z] * l2[z]\n",
    "                f += p\n",
    "            row.append(f)\n",
    "        result.append(row)\n",
    "    \n",
    "    print(result) # displaying the result\n",
    "else:\n",
    "    print(\"Can't be multiplied\")\n"
   ]
  },
  {
   "cell_type": "markdown",
   "metadata": {},
   "source": [
    "#### Sparse Matrix representation"
   ]
  },
  {
   "cell_type": "code",
   "execution_count": 45,
   "metadata": {},
   "outputs": [
    {
     "data": {
      "text/plain": [
       "3"
      ]
     },
     "execution_count": 45,
     "metadata": {},
     "output_type": "execute_result"
    }
   ],
   "source": [
    "a =[[1,2,3],[1,2,3]]\n",
    "len(a[0])"
   ]
  },
  {
   "cell_type": "code",
   "execution_count": 46,
   "metadata": {},
   "outputs": [
    {
     "name": "stdout",
     "output_type": "stream",
     "text": [
      "[[5, 6, 6], [0, 4, 3], [1, 1, 1], [2, 3, 4], [3, 0, 99], [3, 5, 8], [4, 5, 10]]\n"
     ]
    }
   ],
   "source": [
    "# Define matrix of any shape\n",
    "sparse_matrix = [[0,0,0,0,3,0],\n",
    "                [0,1,0,0,0,0],\n",
    "                [0,0,0,4,0,0],\n",
    "                [99,0,0,0,0,8],\n",
    "                [0,0,0,0,0,10]]\n",
    "                 \n",
    "rows = len(sparse_matrix)\n",
    "columns = len(sparse_matrix[0])\n",
    "representation = []\n",
    "counter = 0\n",
    "for i in range(rows):\n",
    "    for j in range(columns):\n",
    "        if sparse_matrix[i][j]!=0: # checking for the non zero values\n",
    "            lst = [i,j,sparse_matrix[i][j]] # storing that value  along with its indexes\n",
    "            counter +=1\n",
    "            representation.append(lst)\n",
    "            \n",
    "representation.insert(0,[rows,columns,counter])\n",
    "print(representation)\n"
   ]
  },
  {
   "cell_type": "markdown",
   "metadata": {},
   "source": [
    "#### Sparse Matrix tranpose"
   ]
  },
  {
   "cell_type": "code",
   "execution_count": 48,
   "metadata": {},
   "outputs": [
    {
     "data": {
      "text/plain": [
       "[0, 0, 0, 0, 0]"
      ]
     },
     "execution_count": 48,
     "metadata": {},
     "output_type": "execute_result"
    }
   ],
   "source": []
  },
  {
   "cell_type": "code",
   "execution_count": 49,
   "metadata": {},
   "outputs": [
    {
     "name": "stdout",
     "output_type": "stream",
     "text": [
      "[[0, 0, 0, 99, 0], [0, 1, 0, 0, 0], [0, 0, 0, 0, 0], [0, 0, 4, 0, 0], [3, 0, 0, 0, 0], [0, 0, 0, 8, 10]]\n"
     ]
    }
   ],
   "source": [
    "transpose_matrix = []\n",
    "rows = representation[0][1]\n",
    "columns = representation[0][0]\n",
    "\n",
    "for i in range(rows):\n",
    "    transpose_matrix.append([0]*columns)\n",
    "    \n",
    "for i in range(1,len(representation)):\n",
    "    value = representation[i][2]\n",
    "    row_index = representation[i][1]\n",
    "    column_index = representation[i][0]\n",
    "    \n",
    "    transpose_matrix[row_index][column_index]=value\n",
    "print(transpose_matrix)"
   ]
  },
  {
   "cell_type": "markdown",
   "metadata": {},
   "source": [
    "#### Storing a polynomial"
   ]
  },
  {
   "cell_type": "code",
   "execution_count": 51,
   "metadata": {},
   "outputs": [
    {
     "name": "stdout",
     "output_type": "stream",
     "text": [
      "Enter the largest exponent of the polynomial: 4\n",
      "Enter the coefficient from the lowest exponent1\n",
      "Enter the coefficient from the lowest exponent2\n",
      "Enter the coefficient from the lowest exponent3\n",
      "Enter the coefficient from the lowest exponent4\n",
      " 1+2x1+3x2+4x3\n"
     ]
    }
   ],
   "source": [
    "n = int(input(\"Enter the largest exponent of the polynomial: \"))\n",
    "coef_lst = []\n",
    "for i in range(n):\n",
    "    c = int(input(\"Enter the coefficient from the lowest exponent\"))\n",
    "    coef_lst.append(c)\n",
    "  \n",
    "poly=' '  \n",
    "for i in range(n):\n",
    "    if i == 0:\n",
    "        poly = poly + str(coef_lst[i])\n",
    "    else:\n",
    "        poly = poly + str(coef_lst[i])+'x'+str(i)\n",
    "    poly = poly + '+'\n",
    "poly = poly[:-1]        \n",
    "print(poly)\n",
    "# coef_lst"
   ]
  },
  {
   "cell_type": "markdown",
   "metadata": {},
   "source": [
    "#### Storing multiple polynomial expressions with different exps"
   ]
  },
  {
   "cell_type": "code",
   "execution_count": null,
   "metadata": {},
   "outputs": [],
   "source": [
    "map(int,input(f\"enter the coefficients of poly {i+1} with spaces\").split(\" \"))"
   ]
  },
  {
   "cell_type": "code",
   "execution_count": 31,
   "metadata": {},
   "outputs": [
    {
     "name": "stdout",
     "output_type": "stream",
     "text": [
      "Enter the number of polynomials: 2\n",
      "enter the coefficients of poly 1 with spaces2 3\n",
      "enter the exponents of poly 1 with spaces1000 1\n",
      "enter the coefficients of poly 2 with spaces5 4 3 2\n",
      "enter the exponents of poly 2 with spaces8 4 5 2\n",
      "[[2, 1000], [3, 1], [5, 8], [4, 4], [3, 5], [2, 2]]\n"
     ]
    }
   ],
   "source": [
    "n = int(input(\"Enter the number of polynomials: \"))\n",
    "coef_lst = []\n",
    "exp_lst = []\n",
    "for i in range(n):\n",
    "    coef = map(int,input(f\"enter the coefficients of poly {i+1} with spaces\").split())\n",
    "    exp =  map(int,input(f\"enter the exponents of poly {i+1} with spaces\").split())\n",
    "    coef_lst += coef\n",
    "    exp_lst += exp\n",
    "\n",
    "result = []\n",
    "for i in range(len(coef_lst)):\n",
    "    result.append([coef_lst[i], exp_lst[i]])\n",
    "    \n",
    "print(result)\n"
   ]
  },
  {
   "cell_type": "markdown",
   "metadata": {},
   "source": [
    "#### Maximum element in an array"
   ]
  },
  {
   "cell_type": "code",
   "execution_count": 28,
   "metadata": {},
   "outputs": [
    {
     "name": "stdout",
     "output_type": "stream",
     "text": [
      "The maximum number in the array is  100\n"
     ]
    }
   ],
   "source": [
    "# Define an array\n",
    "lst = [1,2,3,5,100,4,6,7,9,1,0]\n",
    "ele1 = lst[0]\n",
    "for i in range(1,len(lst)):\n",
    "    if ele1<=lst[i]:\n",
    "        ele1= lst[i]\n",
    "        \n",
    "print(\"The maximum number in the array is \",ele1)\n"
   ]
  },
  {
   "cell_type": "markdown",
   "metadata": {},
   "source": [
    "#### Linear search"
   ]
  },
  {
   "cell_type": "code",
   "execution_count": 55,
   "metadata": {},
   "outputs": [
    {
     "name": "stdout",
     "output_type": "stream",
     "text": [
      "Enter the number to search: 100\n",
      "The number is not found\n"
     ]
    }
   ],
   "source": [
    "lst = [1,2,3,4]\n",
    "num = int(input(\"Enter the number to search: \")) # 3\n",
    "flag=False\n",
    "for i in range(len(lst)):\n",
    "    if lst[i]==num:\n",
    "        flag=True\n",
    "        index = i\n",
    "        break\n",
    "    \n",
    "if flag:\n",
    "    print(\"The number is found at index: \",index)\n",
    "    \n",
    "else:\n",
    "    print(\"The number is not found\")\n"
   ]
  },
  {
   "cell_type": "markdown",
   "metadata": {},
   "source": [
    "#### Fibonacci Series"
   ]
  },
  {
   "cell_type": "code",
   "execution_count": 56,
   "metadata": {},
   "outputs": [
    {
     "name": "stdout",
     "output_type": "stream",
     "text": [
      "How  many numbers you want to print?4\n",
      "0\n",
      "1\n",
      "1\n",
      "2\n"
     ]
    }
   ],
   "source": [
    "n= int(input(\"How  many numbers you want to print?\"))\n",
    "a,b,i=0,1,2\n",
    "if n==1:\n",
    "    print(a)\n",
    "elif n>1:\n",
    "    print(a)\n",
    "    print(b)\n",
    "    while i<n:\n",
    "        c = a + b\n",
    "        print(c)\n",
    "        a = b\n",
    "        b = c\n",
    "        i+=1\n",
    "else:\n",
    "    print(\"Invalid number\")"
   ]
  },
  {
   "cell_type": "code",
   "execution_count": null,
   "metadata": {},
   "outputs": [],
   "source": []
  },
  {
   "cell_type": "code",
   "execution_count": null,
   "metadata": {},
   "outputs": [],
   "source": []
  }
 ],
 "metadata": {
  "kernelspec": {
   "display_name": "Python 3",
   "language": "python",
   "name": "python3"
  },
  "language_info": {
   "codemirror_mode": {
    "name": "ipython",
    "version": 3
   },
   "file_extension": ".py",
   "mimetype": "text/x-python",
   "name": "python",
   "nbconvert_exporter": "python",
   "pygments_lexer": "ipython3",
   "version": "3.8.5"
  }
 },
 "nbformat": 4,
 "nbformat_minor": 4
}
