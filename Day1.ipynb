{
 "cells": [
  {
   "cell_type": "markdown",
   "metadata": {},
   "source": [
    "##### Implementation of 2D Array"
   ]
  },
  {
   "cell_type": "markdown",
   "metadata": {},
   "source": [
    "1. Implement a 2D Array"
   ]
  },
  {
   "cell_type": "code",
   "execution_count": null,
   "metadata": {},
   "outputs": [],
   "source": [
    "rows = int(input(\"Enter number of rows: \"))\n",
    "columns = int(input(\"Enter number of columns: \"))\n",
    "lst = []\n",
    "for i in range(rows):\n",
    "    l1 = []\n",
    "    for j in range(columns):\n",
    "        l1.append(int(input(\"Enter a number: \")))\n",
    "    lst.append(l1)\n",
    "\n",
    "print(lst)\n"
   ]
  },
  {
   "cell_type": "markdown",
   "metadata": {},
   "source": [
    "##### Matrix multiplication"
   ]
  },
  {
   "cell_type": "code",
   "execution_count": 3,
   "metadata": {},
   "outputs": [],
   "source": [
    "def matrix_multiply(arr1, arr2):\n",
    "    pass"
   ]
  },
  {
   "cell_type": "markdown",
   "metadata": {},
   "source": [
    "##### Sparse Matrix Representation"
   ]
  },
  {
   "cell_type": "code",
   "execution_count": 5,
   "metadata": {},
   "outputs": [],
   "source": [
    "def convert_to_sparse_matrix(matrix):\n",
    "    rows = len(matrix)\n",
    "    columns = len(matrix[0])\n",
    "\n",
    "    sparse_represent = []\n",
    "    counter = 0\n",
    "\n",
    "    for i in range(rows):\n",
    "        for j in range(columns):\n",
    "            if matrix[i][j] != 0:\n",
    "                lst = [i, j, matrix[i][j]]\n",
    "                counter += 1\n",
    "                sparse_represent.append(lst)\n",
    "\n",
    "    sparse_represent.insert(0, [rows, columns, counter])\n",
    "    return sparse_represent"
   ]
  },
  {
   "cell_type": "code",
   "execution_count": 6,
   "metadata": {},
   "outputs": [
    {
     "data": {
      "text/plain": [
       "[[5, 5, 6], [0, 3, 3], [1, 1, 4], [2, 2, 1], [3, 1, 2], [4, 0, 1], [4, 3, 3]]"
      ]
     },
     "execution_count": 6,
     "metadata": {},
     "output_type": "execute_result"
    }
   ],
   "source": [
    "matrix = [[0,0,0,3,0],[0,4,0,0,0],[0,0,1,0,0],[0,2,0,0,0],[1,0,0,3,0]]\n",
    "convert_to_sparse_matrix(matrix)"
   ]
  },
  {
   "cell_type": "markdown",
   "metadata": {},
   "source": [
    "##### Sparse Matrix transpose"
   ]
  },
  {
   "cell_type": "code",
   "execution_count": 8,
   "metadata": {},
   "outputs": [],
   "source": [
    "def transpose_sparse_represent(represent):\n",
    "    transpose_matrix = []\n",
    "    for n in range(len(represent)):\n",
    "        lst = [represent[n][1], represent[n][0], represent[n][2]]\n",
    "        transpose_matrix.append(lst)\n",
    "\n",
    "    return transpose_matrix"
   ]
  },
  {
   "cell_type": "code",
   "execution_count": 9,
   "metadata": {},
   "outputs": [
    {
     "data": {
      "text/plain": [
       "[[5, 5, 6], [3, 0, 3], [1, 1, 4], [2, 2, 1], [1, 3, 2], [0, 4, 1], [3, 4, 3]]"
      ]
     },
     "execution_count": 9,
     "metadata": {},
     "output_type": "execute_result"
    }
   ],
   "source": [
    "represent = [[5, 5, 6], [0, 3, 3], [1, 1, 4], [2, 2, 1], [3, 1, 2], [4, 0, 1], [4, 3, 3]]\n",
    "transpose_sparse_represent(represent)"
   ]
  },
  {
   "cell_type": "markdown",
   "metadata": {},
   "source": [
    "##### Sparse to normal matrix conversion"
   ]
  },
  {
   "cell_type": "code",
   "execution_count": 37,
   "metadata": {},
   "outputs": [],
   "source": [
    "def sparse_to_normal_represent(sparse_matrix):\n",
    "    rows = sparse_matrix[0][0]\n",
    "    columns = sparse_matrix[0][1]\n",
    "    non_zeroes = sparse_matrix[0][2]\n",
    "    matrix=[]\n",
    "    for i in range(rows):\n",
    "        matrix.append([0]*columns)\n",
    "\n",
    "    # print(rows, columns, non_zeroes, '\\n', matrix)\n",
    "    \n",
    "    for n in range(1, non_zeroes+1):\n",
    "        i = sparse_matrix[n][0]\n",
    "        j = sparse_matrix[n][1]\n",
    "        num = sparse_matrix[n][2]\n",
    "        matrix[i][j] = num\n",
    "        # print(matrix)\n",
    "    \n",
    "    return matrix"
   ]
  },
  {
   "cell_type": "code",
   "execution_count": 38,
   "metadata": {},
   "outputs": [
    {
     "data": {
      "text/plain": [
       "[[0, 0, 0, 0, 1],\n",
       " [0, 4, 0, 2, 0],\n",
       " [0, 0, 1, 0, 0],\n",
       " [3, 0, 0, 0, 3],\n",
       " [0, 0, 0, 0, 0]]"
      ]
     },
     "execution_count": 38,
     "metadata": {},
     "output_type": "execute_result"
    }
   ],
   "source": [
    "sparse_matrix = [[5, 5, 6], [3, 0, 3], [1, 1, 4], [2, 2, 1], [1, 3, 2], [0, 4, 1], [3, 4, 3]]\n",
    "sparse_to_normal_represent(sparse_matrix)"
   ]
  },
  {
   "cell_type": "code",
   "execution_count": 22,
   "metadata": {},
   "outputs": [
    {
     "data": {
      "text/plain": [
       "[[0, 0, 0, 0, 0],\n",
       " [0, 0, 0, 0, 0],\n",
       " [0, 0, 0, 0, 0],\n",
       " [0, 0, 0, 0, 0],\n",
       " [0, 0, 0, 0, 0]]"
      ]
     },
     "execution_count": 22,
     "metadata": {},
     "output_type": "execute_result"
    }
   ],
   "source": [
    "[[0]*5]*5"
   ]
  },
  {
   "cell_type": "code",
   "execution_count": null,
   "metadata": {},
   "outputs": [],
   "source": []
  }
 ],
 "metadata": {
  "kernelspec": {
   "display_name": "Python 3",
   "language": "python",
   "name": "python3"
  },
  "language_info": {
   "codemirror_mode": {
    "name": "ipython",
    "version": 3
   },
   "file_extension": ".py",
   "mimetype": "text/x-python",
   "name": "python",
   "nbconvert_exporter": "python",
   "pygments_lexer": "ipython3",
   "version": "3.11.4"
  },
  "orig_nbformat": 4
 },
 "nbformat": 4,
 "nbformat_minor": 2
}
