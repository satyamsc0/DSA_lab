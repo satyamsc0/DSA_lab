{
 "cells": [
  {
   "cell_type": "markdown",
   "metadata": {},
   "source": [
    "### Take a randomly generated array and sort it is using bubble sort. Then find an element using binary search."
   ]
  },
  {
   "cell_type": "code",
   "execution_count": 7,
   "metadata": {},
   "outputs": [
    {
     "name": "stdout",
     "output_type": "stream",
     "text": [
      "Unsorted array:  [50, 40, 20, 30, 10]\n",
      "Sorted array:  [10, 20, 30, 40, 50]\n"
     ]
    }
   ],
   "source": [
    "#### BUBBLE SORT\n",
    "array = [50,40,20,30,10]\n",
    "print(\"Unsorted array: \",array)\n",
    "\n",
    "for i in range(len(array)): # Outer loop to iterate through each element\n",
    "    swapped = False\n",
    "    for j in range(len(array)-i-1): # Inner loop for comparison\n",
    "        # checking if the current element is larger than  the next\n",
    "        if array[j]>array[j+1]:\n",
    "            \n",
    "            array[j], array[j+1] = array[j+1],array[j] # Swapping\n",
    "            swapped = True\n",
    "\n",
    "    if swapped== False:\n",
    "        break\n",
    "            \n",
    "print(\"Sorted array: \",array)"
   ]
  },
  {
   "cell_type": "code",
   "execution_count": 6,
   "metadata": {},
   "outputs": [
    {
     "name": "stdout",
     "output_type": "stream",
     "text": [
      "Array:  [10, 20, 30, 40, 50]\n",
      "Enter an element to search: 2183\n",
      "Element is not present\n"
     ]
    }
   ],
   "source": [
    "#### BINARY SEARCH\n",
    "\n",
    "print(\"Array: \",array)\n",
    "search_ele = int(input(\"Enter an element to search: \"))\n",
    "start = 0\n",
    "end = len(array) - 1\n",
    "flag = False\n",
    "while start <= end:\n",
    "\n",
    "    mid = (start + end) // 2\n",
    "\n",
    "    # If the search element is greater than the mid element then ignore the left half\n",
    "    if array[mid] < search_ele:\n",
    "        start = mid + 1\n",
    "\n",
    "    # If the search element is smaller than the mid element then ignore right half\n",
    "    elif array[mid] > search_ele:\n",
    "        end = mid - 1\n",
    "\n",
    "    # then serach element is present at mid\n",
    "    else:\n",
    "        index = mid\n",
    "        flag = True\n",
    "        break\n",
    "\n",
    "if flag:\n",
    "    print(\"Element is present at index\", index)\n",
    "else:\n",
    "    print(\"Element is not present\")\n"
   ]
  },
  {
   "cell_type": "markdown",
   "metadata": {},
   "source": [
    "### Implement “Insertion, Selection Sort & Binary Search” Algorithm"
   ]
  },
  {
   "cell_type": "code",
   "execution_count": 8,
   "metadata": {},
   "outputs": [
    {
     "name": "stdout",
     "output_type": "stream",
     "text": [
      "Unsorted array: [40, 30, 50, 20, 10]\n",
      "Sorted array:  [10, 20, 30, 40, 50]\n"
     ]
    }
   ],
   "source": [
    "#### Insertion Sort\n",
    "array = [40,30,50,20,10]\n",
    "print('Unsorted array:', array)\n",
    "\n",
    "for i in range(1,len(array)): # To iterate throught the elements from the unsorted sub array\n",
    "    key = array[i]\n",
    "    j = i - 1\n",
    "    while j>=0 and key<array[j]: # if the key element is smaller than its previous element\n",
    "        \n",
    "        array[j], array[j+1]=array[j+1],array[j] # swap the key element with its previous elememt\n",
    "        j = j - 1\n",
    "        \n",
    "    \n",
    "print(\"Sorted array: \", array)"
   ]
  },
  {
   "cell_type": "code",
   "execution_count": 19,
   "metadata": {},
   "outputs": [
    {
     "name": "stdout",
     "output_type": "stream",
     "text": [
      "Unsorted array: [40, 30, 50, 20, 10]\n",
      "Sorted array:  [10, 20, 30, 40, 50]\n"
     ]
    }
   ],
   "source": [
    "#### Selection sort\n",
    "\n",
    "array = [40, 30, 50, 20, 10]\n",
    "print('Unsorted array:', array)\n",
    "\n",
    "for i in range(len(array)): # iterating through each element\n",
    "\n",
    "    min_index = i # selecting the 1st element of the unsorted array\n",
    "\n",
    "    for j in range(i+1, len(array)): # comparing that element with the other elements\n",
    "\n",
    "        if array[min_index] > array[j]: \n",
    "\n",
    "            min_index = j # selecting the index of the minimum element in the unsorted array\n",
    "\n",
    "    array[i], array[min_index] = array[min_index], array[i] # swapping it with the current element\n",
    "\n",
    "print(\"Sorted array: \", array)\n"
   ]
  },
  {
   "cell_type": "code",
   "execution_count": 4,
   "metadata": {},
   "outputs": [
    {
     "name": "stdout",
     "output_type": "stream",
     "text": [
      "Unsorted List: [33, 54, 79, 12, 29, 10, 33]\n",
      "Sorted List: [10, 12, 29, 33, 33, 54, 79]\n"
     ]
    }
   ],
   "source": [
    "# Selection sort\n",
    "\n",
    "lst = [33, 54, 79, 12, 29, 10, 33]\n",
    "print(\"Unsorted List:\", lst)\n",
    "\n",
    "for i in range(len(lst)-1):\n",
    "    m_ind = i\n",
    "    # find min index\n",
    "    for j in range(i+1, len(lst)):\n",
    "        if lst[j] < lst[m_ind]:\n",
    "            m_ind = j\n",
    "\n",
    "    # swap ith value with min value if values are different\n",
    "    if lst[i] != lst[m_ind]:\n",
    "        lst[i], lst[m_ind] = lst[m_ind], lst[i]\n",
    "\n",
    "print(\"Sorted List:\", lst)"
   ]
  },
  {
   "cell_type": "code",
   "execution_count": 13,
   "metadata": {},
   "outputs": [
    {
     "name": "stdout",
     "output_type": "stream",
     "text": [
      "Unsorted List: [33, 54, 79, 12, 29, 10, 33]\n",
      "\n",
      "sorted list: [10, 12, 29, 33, 33, 54, 79]\n"
     ]
    }
   ],
   "source": [
    "# Bubble sort\n",
    "\n",
    "lst = [33, 54, 79, 12, 29, 10, 33]\n",
    "print(\"Unsorted List:\", lst)\n",
    "n = len(lst)\n",
    "for i in range(n-1):\n",
    "    for j in range(n-i-1):\n",
    "        if lst[j] > lst[j+1]:\n",
    "            lst[j], lst[j+1] = lst[j+1], lst[j]\n",
    "print(\"\\nsorted list:\", lst)"
   ]
  },
  {
   "cell_type": "code",
   "execution_count": 14,
   "metadata": {},
   "outputs": [
    {
     "name": "stdout",
     "output_type": "stream",
     "text": [
      "Unsorted List: [33, 54, 79, 12, 29, 10, 33]\n",
      "\n",
      "Sorted list: [10, 12, 29, 33, 33, 54, 79]\n"
     ]
    }
   ],
   "source": [
    "# Quick sort - list comprehension\n",
    "\n",
    "lst = [33, 54, 79, 12, 29, 10, 33]\n",
    "print(\"Unsorted List:\", lst)\n",
    "\n",
    "def quick_sort(arr):\n",
    "    if len(arr) <= 1:\n",
    "        return arr\n",
    "    \n",
    "    pivot = arr[0]\n",
    "    left = [x for x in arr[1:] if x < pivot]\n",
    "    right = [x for x in arr[1:] if x >= pivot]\n",
    "    return quick_sort(left) + [pivot] + quick_sort(right)\n",
    "\n",
    "print(\"\\nSorted list:\", quick_sort(lst))"
   ]
  },
  {
   "cell_type": "code",
   "execution_count": 27,
   "metadata": {},
   "outputs": [
    {
     "name": "stdout",
     "output_type": "stream",
     "text": [
      "Unsorted List: [33, 54, 79, 12, 29, 10, 33]\n",
      "\n",
      "Sorted list: [10, 12, 29, 33, 33, 54, 79]\n"
     ]
    }
   ],
   "source": [
    "# Merge sort\n",
    "\n",
    "lst = [33, 54, 79, 12, 29, 10, 33]\n",
    "print(\"Unsorted List:\", lst)\n",
    "    \n",
    "def merge(arr, left_arr, right_arr):\n",
    "    i=j=k=0\n",
    "    while i < len(left_arr) and j < len(right_arr):\n",
    "        if left_arr[i] < right_arr[j]:\n",
    "            arr[k]=left_arr[i]\n",
    "            i += 1\n",
    "            k += 1\n",
    "        else:\n",
    "            arr[k] = right_arr[j]\n",
    "            j += 1\n",
    "            k += 1\n",
    "    \n",
    "    while i < len(left_arr):\n",
    "        arr[k] = left_arr[i]\n",
    "        i += 1\n",
    "        k += 1\n",
    "\n",
    "    while j < len(right_arr):\n",
    "        arr[k] = right_arr[j]\n",
    "        j += 1\n",
    "        k += 1\n",
    "\n",
    "def merge_sort(arr):\n",
    "    if len(arr) > 1:\n",
    "        mid = len(arr)//2\n",
    "        left_arr = arr[:mid]\n",
    "        right_arr = arr[mid:]\n",
    "        merge_sort(left_arr)\n",
    "        merge_sort(right_arr)\n",
    "        merge(arr, left_arr, right_arr)\n",
    "    return arr\n",
    "    \n",
    "print(\"\\nSorted list:\", merge_sort(lst))"
   ]
  },
  {
   "cell_type": "code",
   "execution_count": null,
   "metadata": {},
   "outputs": [],
   "source": [
    "# Insertion sort\n",
    "\n",
    "lst = [33, 54, 79, 12, 29, 10, 33]\n",
    "print(\"Unsorted List:\", lst)\n",
    "\n",
    "def insertion_sort(arr):\n",
    "    pass\n",
    "\n",
    "print(\"\\nSorted list:\", insertion_sort(lst))"
   ]
  },
  {
   "cell_type": "code",
   "execution_count": 30,
   "metadata": {},
   "outputs": [
    {
     "name": "stdout",
     "output_type": "stream",
     "text": [
      "None\n"
     ]
    }
   ],
   "source": [
    "print('Yes' if int(input())>=18 else None)"
   ]
  },
  {
   "cell_type": "code",
   "execution_count": 33,
   "metadata": {},
   "outputs": [
    {
     "data": {
      "text/plain": [
       "[1, 2, 3]"
      ]
     },
     "execution_count": 33,
     "metadata": {},
     "output_type": "execute_result"
    }
   ],
   "source": [
    "a = [1,2,3]\n",
    "a[:100]"
   ]
  },
  {
   "cell_type": "code",
   "execution_count": null,
   "metadata": {},
   "outputs": [],
   "source": []
  }
 ],
 "metadata": {
  "kernelspec": {
   "display_name": "Python 3",
   "language": "python",
   "name": "python3"
  },
  "language_info": {
   "codemirror_mode": {
    "name": "ipython",
    "version": 3
   },
   "file_extension": ".py",
   "mimetype": "text/x-python",
   "name": "python",
   "nbconvert_exporter": "python",
   "pygments_lexer": "ipython3",
   "version": "3.11.7"
  }
 },
 "nbformat": 4,
 "nbformat_minor": 4
}
