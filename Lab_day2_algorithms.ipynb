{
 "cells": [
  {
   "cell_type": "markdown",
   "metadata": {},
   "source": [
    "#### Bubble Sort"
   ]
  },
  {
   "cell_type": "code",
   "execution_count": 8,
   "metadata": {},
   "outputs": [
    {
     "name": "stdout",
     "output_type": "stream",
     "text": [
      "Unsorted array: [50, 40, 20, 30, 10]\n"
     ]
    }
   ],
   "source": [
    "arr = [50, 40, 20, 30, 10]\n",
    "print(\"Unsorted array:\", arr)"
   ]
  },
  {
   "cell_type": "code",
   "execution_count": 11,
   "metadata": {},
   "outputs": [],
   "source": [
    "def bubble_sort(arr):\n",
    "    for i in range(len(arr)): # outer loop to iterate through each element\n",
    "        swapped = False\n",
    "        for j in range(len(arr)-i-1): #inner loop for comparision\n",
    "            #checking if the current element is larger than the next\n",
    "            if arr[j]>arr[j+1]:\n",
    "                arr[j], arr[j+1] = arr[j+1], arr[j] #swapping\n",
    "                swapped = True\n",
    "\n",
    "        if swapped == False:\n",
    "            break\n",
    "    return arr\n"
   ]
  },
  {
   "cell_type": "code",
   "execution_count": 13,
   "metadata": {},
   "outputs": [
    {
     "name": "stdout",
     "output_type": "stream",
     "text": [
      "[10, 20, 30, 40, 50]\n"
     ]
    }
   ],
   "source": [
    "print(bubble_sort(arr))"
   ]
  },
  {
   "cell_type": "markdown",
   "metadata": {},
   "source": [
    "#### Binary Search"
   ]
  },
  {
   "cell_type": "code",
   "execution_count": 38,
   "metadata": {},
   "outputs": [],
   "source": [
    "def binary_search(arr, search_ele):\n",
    "    start = 0\n",
    "    end = len(arr)-1\n",
    "    flag = False\n",
    "\n",
    "    while start <= end:\n",
    "        mid = (start + end) //2\n",
    "\n",
    "        # if search element is greater than the mid element then ignore the left\n",
    "        if arr[mid] < search_ele:\n",
    "            start = mid + 1\n",
    "\n",
    "        # if search element is smaller than the mid element then ignore the right\n",
    "        elif arr[mid] > search_ele:\n",
    "            end = mid - 1\n",
    "\n",
    "        else:\n",
    "            index =  mid\n",
    "            flag = True\n",
    "            break\n",
    "\n",
    "    if flag==True:\n",
    "        return index\n",
    "    else:\n",
    "        return 100"
   ]
  },
  {
   "cell_type": "code",
   "execution_count": 40,
   "metadata": {},
   "outputs": [
    {
     "data": {
      "text/plain": [
       "100"
      ]
     },
     "execution_count": 40,
     "metadata": {},
     "output_type": "execute_result"
    }
   ],
   "source": [
    "search_ele = 10\n",
    "arr = [50, 40, 20, 30, 10]\n",
    "binary_search(arr, search_ele)"
   ]
  },
  {
   "cell_type": "markdown",
   "metadata": {},
   "source": [
    "#### Interpolation Search"
   ]
  },
  {
   "cell_type": "code",
   "execution_count": 3,
   "metadata": {},
   "outputs": [],
   "source": [
    "def interpolation_search(arr, search_element):\n",
    "    low = 0\n",
    "    up = len(arr) - 1\n",
    "    flag = False\n",
    "    while not flag:\n",
    "        loc = (( search_element - arr[low] ) / ( arr[up] - arr[low] ))*( up - low ) + low\n",
    "\n",
    "        if low <= loc <= up:\n",
    "            if search_ele < arr[loc]:\n",
    "                up = loc - 1\n",
    "            elif search_ele > arr[loc]:\n",
    "                low = loc + 1\n",
    "            else:\n",
    "                flag = True\n",
    "        else:\n",
    "            break\n",
    "    return 'Found at {loc}' if flag else 'Not Found'"
   ]
  },
  {
   "cell_type": "code",
   "execution_count": 4,
   "metadata": {},
   "outputs": [
    {
     "name": "stdout",
     "output_type": "stream",
     "text": [
      "Not Found\n"
     ]
    }
   ],
   "source": [
    "arr = [60, 50, 30, 40, 10, 100]\n",
    "k = 10\n",
    "print(interpolation_search(arr, k))"
   ]
  },
  {
   "cell_type": "markdown",
   "metadata": {},
   "source": [
    "#### Insertion Sort"
   ]
  },
  {
   "cell_type": "code",
   "execution_count": 27,
   "metadata": {},
   "outputs": [],
   "source": [
    "def insertionSort(arr):\n",
    "    for i in range(1, len(arr)):\n",
    "        key = arr[i]\n",
    "        j = i-1\n",
    "        while j>=0 and key<arr[j]:\n",
    "            arr[j], arr[j+1] = arr[j+1], arr[j]\n",
    "            j = j - 1\n",
    "\n",
    "    return arr"
   ]
  },
  {
   "cell_type": "code",
   "execution_count": 28,
   "metadata": {},
   "outputs": [
    {
     "data": {
      "text/plain": [
       "[10, 20, 30, 40, 50]"
      ]
     },
     "execution_count": 28,
     "metadata": {},
     "output_type": "execute_result"
    }
   ],
   "source": [
    "arr = [50, 40, 20, 30, 10]\n",
    "insertionSort(arr)"
   ]
  },
  {
   "cell_type": "markdown",
   "metadata": {},
   "source": [
    "#### Selection Sort"
   ]
  },
  {
   "cell_type": "code",
   "execution_count": 29,
   "metadata": {},
   "outputs": [],
   "source": [
    "def SelectionSort(arr):\n",
    "    for i in range(len(arr)):\n",
    "        min_index = i\n",
    "        for j in range(i+1, len(arr)):\n",
    "            if arr[min_index] >arr[j]:\n",
    "                min_index = j\n",
    "        arr[i], arr[min_index] = arr[min_index], arr[i]\n",
    "\n",
    "    return arr"
   ]
  },
  {
   "cell_type": "code",
   "execution_count": 30,
   "metadata": {},
   "outputs": [
    {
     "data": {
      "text/plain": [
       "[10, 20, 30, 40, 50]"
      ]
     },
     "execution_count": 30,
     "metadata": {},
     "output_type": "execute_result"
    }
   ],
   "source": [
    "arr = [50, 40, 20, 30, 10]\n",
    "SelectionSort(arr)"
   ]
  },
  {
   "cell_type": "markdown",
   "metadata": {},
   "source": [
    "#### Quick Sort"
   ]
  },
  {
   "cell_type": "code",
   "execution_count": 41,
   "metadata": {},
   "outputs": [
    {
     "name": "stdout",
     "output_type": "stream",
     "text": [
      "Unsorted Array\n",
      "[1, 7, 4, 1, 10, 9, -2]\n",
      "Sorted Array in Ascending Order:\n",
      "[-2, 1, 1, 4, 7, 9, 10]\n"
     ]
    }
   ],
   "source": [
    "# Python program for implementation of Quicksort Sort\n",
    "\n",
    "# This implementation utilizes pivot as the last element in the nums list\n",
    "# It has a pointer to keep track of the elements smaller than the pivot\n",
    "# At the very end of partition() function, the pointer is swapped with the pivot\n",
    "# to come up with a \"sorted\" nums relative to the pivot\n",
    "\n",
    "\n",
    "# Function to find the partition position\n",
    "def partition(array, low, high):\n",
    "\n",
    "\t# choose the rightmost element as pivot\n",
    "\tpivot = array[high]\n",
    "\n",
    "\t# pointer for greater element\n",
    "\ti = low - 1\n",
    "\n",
    "\t# traverse through all elements\n",
    "\t# compare each element with pivot\n",
    "\tfor j in range(low, high):\n",
    "\t\tif array[j] <= pivot:\n",
    "\n",
    "\t\t\t# If element smaller than pivot is found\n",
    "\t\t\t# swap it with the greater element pointed by i\n",
    "\t\t\ti = i + 1\n",
    "\n",
    "\t\t\t# Swapping element at i with element at j\n",
    "\t\t\t(array[i], array[j]) = (array[j], array[i])\n",
    "\n",
    "\t# Swap the pivot element with the greater element specified by i\n",
    "\t(array[i + 1], array[high]) = (array[high], array[i + 1])\n",
    "\n",
    "\t# Return the position from where partition is done\n",
    "\treturn i + 1\n",
    "\n",
    "# function to perform quicksort\n",
    "\n",
    "\n",
    "def quickSort(array, low, high):\n",
    "\tif low < high:\n",
    "\n",
    "\t\t# Find pivot element such that\n",
    "\t\t# element smaller than pivot are on the left\n",
    "\t\t# element greater than pivot are on the right\n",
    "\t\tpi = partition(array, low, high)\n",
    "\n",
    "\t\t# Recursive call on the left of pivot\n",
    "\t\tquickSort(array, low, pi - 1)\n",
    "\n",
    "\t\t# Recursive call on the right of pivot\n",
    "\t\tquickSort(array, pi + 1, high)\n",
    "\n",
    "\n",
    "data = [1, 7, 4, 1, 10, 9, -2]\n",
    "print(\"Unsorted Array\")\n",
    "print(data)\n",
    "\n",
    "size = len(data)\n",
    "\n",
    "quickSort(data, 0, size - 1)\n",
    "\n",
    "print('Sorted Array in Ascending Order:')\n",
    "print(data)\n"
   ]
  },
  {
   "cell_type": "code",
   "execution_count": null,
   "metadata": {},
   "outputs": [],
   "source": []
  }
 ],
 "metadata": {
  "kernelspec": {
   "display_name": "Python 3",
   "language": "python",
   "name": "python3"
  },
  "language_info": {
   "codemirror_mode": {
    "name": "ipython",
    "version": 3
   },
   "file_extension": ".py",
   "mimetype": "text/x-python",
   "name": "python",
   "nbconvert_exporter": "python",
   "pygments_lexer": "ipython3",
   "version": "3.11.4"
  },
  "orig_nbformat": 4
 },
 "nbformat": 4,
 "nbformat_minor": 2
}
