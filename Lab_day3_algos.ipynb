{
 "cells": [
  {
   "cell_type": "code",
   "execution_count": 1,
   "metadata": {},
   "outputs": [],
   "source": [
    "# function to find the partition position\n",
    "\n",
    "def partition(array, low, high):\n",
    "    pivot = array(high)"
   ]
  },
  {
   "cell_type": "code",
   "execution_count": 2,
   "metadata": {},
   "outputs": [],
   "source": [
    "def quicksort(array, low, high):\n",
    "    pi = partition(array, low, high)\n",
    "\n",
    "    quicksort(array, low, pi - 1)\n",
    "\n",
    "    quicksort(array, pi + 1, high)\n"
   ]
  },
  {
   "cell_type": "code",
   "execution_count": null,
   "metadata": {},
   "outputs": [],
   "source": [
    "\n",
    "array = [10, 60, 40, 50, 20, 30]\n",
    "print('Unsorted array:', array)\n",
    "N = len(array)\n",
    "quicksort(array, 0, N-1)"
   ]
  },
  {
   "cell_type": "markdown",
   "metadata": {},
   "source": [
    "#### Merge Sort"
   ]
  },
  {
   "cell_type": "code",
   "execution_count": null,
   "metadata": {},
   "outputs": [],
   "source": [
    "def mergesort(array):\n",
    "    if len(array) > 1:\n",
    "        mid = len(array)//2\n",
    "\n",
    "        l = array[:mid]\n",
    "        r = array[mid:]\n",
    "\n",
    "        mergesort(l)\n",
    "        mergesort(r)\n",
    "\n",
    "        i = j = k = 0\n",
    "\n",
    "        while i < len(l) and j < len(r):\n",
    "            if l[i] <= r[j]:\n",
    "                array[k] = l[i]\n",
    "                i += 1\n",
    "            k += 1\n",
    "\n",
    "        while i < len(l):\n",
    "            array[k] = r[j]\n",
    "            j += 1\n",
    "            k += 1\n",
    "\n",
    "        while j < len(r):\n",
    "            array[k] = r[j]\n",
    "            j += 1\n",
    "            k += 1\n"
   ]
  }
 ],
 "metadata": {
  "kernelspec": {
   "display_name": "Python 3",
   "language": "python",
   "name": "python3"
  },
  "language_info": {
   "codemirror_mode": {
    "name": "ipython",
    "version": 3
   },
   "file_extension": ".py",
   "mimetype": "text/x-python",
   "name": "python",
   "nbconvert_exporter": "python",
   "pygments_lexer": "ipython3",
   "version": "3.11.4"
  },
  "orig_nbformat": 4
 },
 "nbformat": 4,
 "nbformat_minor": 2
}
